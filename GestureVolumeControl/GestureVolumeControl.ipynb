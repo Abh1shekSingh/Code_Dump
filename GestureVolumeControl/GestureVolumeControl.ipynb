{
 "cells": [
  {
   "cell_type": "code",
   "execution_count": 1,
   "source": [
    "#Gesture Volume Control"
   ],
   "outputs": [],
   "metadata": {}
  },
  {
   "cell_type": "code",
   "execution_count": 2,
   "source": [
    "#importing libraries\r\n",
    "import cv2\r\n",
    "import time\r\n",
    "import math\r\n",
    "import numpy as np\r\n",
    "import mediapipe as mp\r\n",
    "from ctypes import cast, POINTER\r\n",
    "from comtypes import CLSCTX_ALL\r\n",
    "from pycaw.pycaw import AudioUtilities, IAudioEndpointVolume"
   ],
   "outputs": [],
   "metadata": {}
  },
  {
   "cell_type": "code",
   "execution_count": 3,
   "source": [
    "#required variables\r\n",
    "previous_time=0\r\n",
    "current_time=0\r\n",
    "\r\n",
    "index_x=0 \r\n",
    "index_y=0\r\n",
    "\r\n",
    "thumb_x=0\r\n",
    "thumb_y=0\r\n",
    "\r\n",
    "vol=0\r\n",
    "abs_vol=0\r\n",
    "\r\n",
    "lengths=[]"
   ],
   "outputs": [],
   "metadata": {}
  },
  {
   "cell_type": "code",
   "execution_count": 4,
   "source": [
    "#audio library initialization\r\n",
    "devices=AudioUtilities.GetSpeakers()\r\n",
    "interface=devices.Activate(IAudioEndpointVolume._iid_, CLSCTX_ALL, None)\r\n",
    "volume=cast(interface, POINTER(IAudioEndpointVolume))\r\n",
    "range=volume.GetVolumeRange()\r\n",
    "\r\n",
    "minVol=range[0]\r\n",
    "maxVol=range[1]\r\n",
    "\r\n",
    "#capturing the video\r\n",
    "cap=cv2.VideoCapture(1)\r\n",
    "\r\n",
    "#this will help us detect the hand and draw the reference points\r\n",
    "mphand=mp.solutions.hands\r\n",
    "hands=mphand.Hands(max_num_hands=1, min_detection_confidence=0.9)\r\n",
    "mpDraw=mp.solutions.drawing_utils    #this statement will help us plot the 21 reference points and their connections\r\n",
    "\r\n",
    "while True:\r\n",
    "    success, img=cap.read()\r\n",
    "    \r\n",
    "    #converting image to rgb\r\n",
    "    img_rgb=cv2.cvtColor(img, cv2.COLOR_BGR2RGB)\r\n",
    "    \r\n",
    "    #detecting hand/s using 21 points of reference, these reference points will be plotted on the hand\r\n",
    "    result=hands.process(img_rgb)\r\n",
    "    if result.multi_hand_landmarks:\r\n",
    "        for handlms in result.multi_hand_landmarks:    #loop: handlms gives us the number of hands i.e. 1 hand, 2hands...\r\n",
    "            for id, lm in enumerate(handlms.landmark):    #loop: gives us individual reference point on each hand\r\n",
    "                h, w, c=img.shape                         #gives us the dimensions of the frame\r\n",
    "                cx, cy=int(lm.x*w), int(lm.y*h)           #give us the coordinates for the reference points\r\n",
    "                if id==8:\r\n",
    "                    cv2.circle(img, (cx, cy), 20, (255, 0, 255), cv2.FILLED)\r\n",
    "                    index_x, index_y=cx, cy\r\n",
    "                elif id==4:\r\n",
    "                    cv2.circle(img, (cx, cy), 20, (255, 0, 255), cv2.FILLED)\r\n",
    "                    thumb_x, thumb_y=cx, cy\r\n",
    "                cv2.line(img, (index_x, index_y), (thumb_x, thumb_y), (255, 0, 255), 3)\r\n",
    "                length=math.dist((index_x, index_y), (thumb_x, thumb_y))\r\n",
    "                lengths.append(length)\r\n",
    "                vol=np.interp(length, [50, 300], [minVol, maxVol])\r\n",
    "                abs_vol=np.interp(vol, [minVol, maxVol], [0, 100])\r\n",
    "                volume.SetMasterVolumeLevel(vol, None)\r\n",
    "            mpDraw.draw_landmarks(img, handlms, mphand.HAND_CONNECTIONS)\r\n",
    "            #the above statement will actually plot the 21 reference points and their connections\r\n",
    "    \r\n",
    "    #calculating the frame rate\r\n",
    "    current_time=time.time()\r\n",
    "    frame_rate=1/(current_time-previous_time)\r\n",
    "    previous_time=current_time\r\n",
    "    \r\n",
    "    img=cv2.flip(img,1)\r\n",
    "    #cv2.putText(img, str(int(frame_rate)), (20, 40), cv2.FONT_HERSHEY_PLAIN, 3, (0, 0, 255), 3)\r\n",
    "    cv2.putText(img, str(int(abs_vol)), (20, 40), cv2.FONT_HERSHEY_PLAIN, 3, (0, 0, 255), 3)\r\n",
    "    cv2.imshow(\"camera\", img)\r\n",
    "    if cv2.waitKey(1) & 0xFF==ord('q'):\r\n",
    "        cap.release()\r\n",
    "        cv2.destroyAllWindows()\r\n",
    "        break"
   ],
   "outputs": [],
   "metadata": {
    "tags": []
   }
  }
 ],
 "metadata": {
  "kernelspec": {
   "name": "python3",
   "display_name": "Python 3.8.8 64-bit ('tensorflow': conda)"
  },
  "language_info": {
   "codemirror_mode": {
    "name": "ipython",
    "version": 3
   },
   "file_extension": ".py",
   "mimetype": "text/x-python",
   "name": "python",
   "nbconvert_exporter": "python",
   "pygments_lexer": "ipython3",
   "version": "3.8.8"
  },
  "interpreter": {
   "hash": "adbe46018c70e9352393b274d6b2480849c020eee9c0dc58b148aa8799071329"
  }
 },
 "nbformat": 4,
 "nbformat_minor": 5
}
{
 "cells": [
  {
   "cell_type": "code",
   "execution_count": 1,
   "source": [
    "#PalmTracking"
   ],
   "outputs": [],
   "metadata": {}
  },
  {
   "cell_type": "code",
   "execution_count": 2,
   "source": [
    "#importing libraries\r\n",
    "import cv2\r\n",
    "import time\r\n",
    "import mediapipe as mp"
   ],
   "outputs": [],
   "metadata": {}
  },
  {
   "cell_type": "code",
   "execution_count": 3,
   "source": [
    "#capturing the video\r\n",
    "cap=cv2.VideoCapture(1)\r\n",
    "\r\n",
    "#this will help us detect the hand and draw the reference points\r\n",
    "mphand=mp.solutions.hands\r\n",
    "hands=mphand.Hands()\r\n",
    "mpDraw=mp.solutions.drawing_utils    #this statement will help us plot the 21 reference points and their connections\r\n",
    "\r\n",
    "#variables required to print frame rate\r\n",
    "previous_time=0\r\n",
    "current_time=0\r\n",
    "\r\n",
    "while True:\r\n",
    "    success, img=cap.read()\r\n",
    "    \r\n",
    "    #converting image to rgb\r\n",
    "    img_rgb=cv2.cvtColor(img, cv2.COLOR_BGR2RGB)\r\n",
    "    \r\n",
    "    #detecting hand/s using 21 points of reference, these reference points will be plotted on the hand\r\n",
    "    result=hands.process(img)\r\n",
    "    if result.multi_hand_landmarks:\r\n",
    "        for handlms in result.multi_hand_landmarks:    #loop: handlms gives us the number of hands i.e. 1 hand, 2hands...\r\n",
    "            mpDraw.draw_landmarks(img, handlms, mphand.HAND_CONNECTIONS)\r\n",
    "            #the above statement will actually plot the 21 reference points and their connections\r\n",
    "            \r\n",
    "    #calculating the frame rate\r\n",
    "    current_time=time.time()\r\n",
    "    frame_rate=1/(current_time-previous_time)\r\n",
    "    previous_time=current_time\r\n",
    "    \r\n",
    "    #displaying the results\r\n",
    "    cv2.putText(img, str(int(frame_rate)), (20, 40), cv2.FONT_HERSHEY_PLAIN, 3, (0, 0, 255), 3)\r\n",
    "    cv2.imshow(\"camera\", img)\r\n",
    "    if cv2.waitKey(1) & 0xFF==ord('q'):\r\n",
    "        cap.release()\r\n",
    "        cv2.destroyAllWindows()\r\n",
    "        break"
   ],
   "outputs": [],
   "metadata": {}
  },
  {
   "cell_type": "code",
   "execution_count": null,
   "source": [],
   "outputs": [],
   "metadata": {}
  }
 ],
 "metadata": {
  "kernelspec": {
   "name": "python3",
   "display_name": "Python 3.8.8 64-bit ('tensorflow': conda)"
  },
  "language_info": {
   "codemirror_mode": {
    "name": "ipython",
    "version": 3
   },
   "file_extension": ".py",
   "mimetype": "text/x-python",
   "name": "python",
   "nbconvert_exporter": "python",
   "pygments_lexer": "ipython3",
   "version": "3.8.8"
  },
  "interpreter": {
   "hash": "adbe46018c70e9352393b274d6b2480849c020eee9c0dc58b148aa8799071329"
  }
 },
 "nbformat": 4,
 "nbformat_minor": 5
}